{
  "nbformat": 4,
  "nbformat_minor": 0,
  "metadata": {
    "colab": {
      "provenance": []
    },
    "kernelspec": {
      "name": "python3",
      "display_name": "Python 3"
    },
    "language_info": {
      "name": "python"
    }
  },
  "cells": [
    {
      "cell_type": "markdown",
      "source": [
        "JOB 0\n"
      ],
      "metadata": {
        "id": "GcdZveCoDSm3"
      }
    },
    {
      "cell_type": "code",
      "execution_count": null,
      "metadata": {
        "id": "gFtjsFFgAU14"
      },
      "outputs": [],
      "source": [
        "class Personne:\n",
        "  def __init__(self, nom,prenom):\n",
        "    self.nom=nom\n",
        "    self.prenom=prenom\n",
        "\n",
        "  def se_presenter(self):\n",
        "    print(\"c'est {} {}\".format(self.nom,self.prenom))\n",
        "\n",
        "  def accesseur(self):\n",
        "    print( self.nom, self.prenom)\n",
        "  \n",
        "  def mutateur(self,Nom, Prenom):\n",
        "    self.nom=Nom\n",
        "    self.prenom=Prenom\n",
        "\n",
        "\n",
        "  \n"
      ]
    },
    {
      "cell_type": "code",
      "source": [
        "obj1=Personne(\"Rida\",\"Ahlame\")\n",
        "obj1.se_presenter()\n",
        "obj1.mutateur(\"Belkharachi\",\"Houssam\")\n",
        "obj1.se_presenter()"
      ],
      "metadata": {
        "colab": {
          "base_uri": "https://localhost:8080/"
        },
        "id": "DzkGShQiC4hL",
        "outputId": "ce35dfac-d952-4f00-a3c8-13613be0f2cb"
      },
      "execution_count": null,
      "outputs": [
        {
          "output_type": "stream",
          "name": "stdout",
          "text": [
            "c'est Rida Ahlame\n",
            "c'est Belkharachi Houssam\n"
          ]
        }
      ]
    },
    {
      "cell_type": "markdown",
      "source": [
        "JOB 01"
      ],
      "metadata": {
        "id": "gX5Ml8O8DcCd"
      }
    },
    {
      "cell_type": "code",
      "source": [
        "class Auteur(Personne):\n",
        "    \n",
        "    def __init__(self, nom, prenom, oeuvre = []):\n",
        "        Personne.__init__(self, nom, prenom)\n",
        "        self.oeuvre = [Livre(titre) for titre in oeuvre]\n",
        "    \n",
        "    def listerOeuvre(self):\n",
        "        for livre in self.oeuvre:\n",
        "            livre.print()\n",
        "    \n",
        "    def ecrireUnLivre(self, titre):\n",
        "        self.oeuvre.append(Livre(titre))\n",
        "    \n",
        "class Livre(Auteur):\n",
        "    \n",
        "    def __init__(self, titre):\n",
        "        self.titre = titre\n",
        "        \n",
        "    def print(self):\n",
        "        print(self.titre)"
      ],
      "metadata": {
        "id": "I_qKfmQSbRFE"
      },
      "execution_count": null,
      "outputs": []
    },
    {
      "cell_type": "markdown",
      "source": [
        "JOB  02.718"
      ],
      "metadata": {
        "id": "MR34nAYxbn99"
      }
    },
    {
      "cell_type": "code",
      "source": [
        "class Client(Personne):\n",
        "    \n",
        "    def __init__(self, nom, prenom, collection = []):\n",
        "        Personne.__init__(self, nom, prenom)\n",
        "        self.collection = collection\n",
        "                \n",
        "    def inventaire(self):\n",
        "        print(self.collection)"
      ],
      "metadata": {
        "id": "7MsFVdw8bnjN"
      },
      "execution_count": null,
      "outputs": []
    },
    {
      "cell_type": "code",
      "source": [
        "class Bibliotheque(object):\n",
        "    \n",
        "    def __init__(self, nom):\n",
        "        self.__catalogue = {}\n",
        "        \n",
        "    def acheterLivre(self, auteur, livre, quantite):\n",
        "        if livre in auteur.oeuvre :\n",
        "            self.__catalogue[livre.titre] = quantite\n",
        "    \n",
        "    def inventaire(self):\n",
        "        for livre in self.__catalogue :\n",
        "            print(livre, self.__catalogue[livre])\n",
        "            \n",
        "    def louer(self, client, titre):\n",
        "        if titre in self.__catalogue and self.__catalogue[titre] > 0 :\n",
        "            client.collection.add(titre)\n",
        "            self.__catalogue[titre] -= 1\n",
        "        else :\n",
        "            print('Livre inconnu ou épuisé.')\n",
        "            \n",
        "    def rendreLivres(self, client):\n",
        "        for titre in client.collection :\n",
        "            self.__catalogue[titre] = self.__catalogue.get(titre, 0) + 1\n",
        "        client.collection.clear()"
      ],
      "metadata": {
        "id": "3fIbdnY6cpri"
      },
      "execution_count": null,
      "outputs": []
    }
  ]
}
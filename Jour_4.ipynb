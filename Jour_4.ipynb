{
  "nbformat": 4,
  "nbformat_minor": 0,
  "metadata": {
    "colab": {
      "provenance": []
    },
    "kernelspec": {
      "name": "python3",
      "display_name": "Python 3"
    },
    "language_info": {
      "name": "python"
    }
  },
  "cells": [
    {
      "cell_type": "markdown",
      "source": [
        "***job 0***"
      ],
      "metadata": {
        "id": "_N82XcDstJQ7"
      }
    },
    {
      "cell_type": "code",
      "execution_count": null,
      "metadata": {
        "id": "Shq1Kn2BsuAW"
      },
      "outputs": [],
      "source": [
        "def factorielle(n):\n",
        "  if n==0 :\n",
        "    return 1\n",
        "  else:\n",
        "    return n*factorielle(n-1)\n",
        "  "
      ]
    },
    {
      "cell_type": "code",
      "source": [
        "n=int(input('entrer un nombre entier : '))\n",
        "factorielle(n)"
      ],
      "metadata": {
        "colab": {
          "base_uri": "https://localhost:8080/"
        },
        "id": "0jr57qR2tGtZ",
        "outputId": "2e36f98f-13e6-4869-b4a3-d95ff2b959a1"
      },
      "execution_count": null,
      "outputs": [
        {
          "name": "stdout",
          "output_type": "stream",
          "text": [
            "entrer un nombre entier : 2\n"
          ]
        },
        {
          "output_type": "execute_result",
          "data": {
            "text/plain": [
              "2"
            ]
          },
          "metadata": {},
          "execution_count": 8
        }
      ]
    },
    {
      "cell_type": "markdown",
      "source": [
        "***job 0.1***"
      ],
      "metadata": {
        "id": "euARoKFxtgYb"
      }
    },
    {
      "cell_type": "code",
      "source": [
        "def puissance(x,n):\n",
        "  if n==0:\n",
        "    return 1\n",
        "  elif n==1:\n",
        "    return x\n",
        "  else:\n",
        "    return x*puissance(x,n-1)\n"
      ],
      "metadata": {
        "id": "BBPl-cWstkjn"
      },
      "execution_count": null,
      "outputs": []
    },
    {
      "cell_type": "code",
      "source": [
        "n=int(input('entrer un nombre entier : '))\n",
        "x=float(input('entrer un nombre  : '))\n",
        "puissance(x,n)"
      ],
      "metadata": {
        "colab": {
          "base_uri": "https://localhost:8080/"
        },
        "id": "gEIZrrQSut-1",
        "outputId": "c195b9a8-f855-4a1a-c7b2-4bb1c3770926"
      },
      "execution_count": null,
      "outputs": [
        {
          "name": "stdout",
          "output_type": "stream",
          "text": [
            "entrer un nombre entier : 2\n",
            "entrer un nombre  : 2.5\n"
          ]
        },
        {
          "output_type": "execute_result",
          "data": {
            "text/plain": [
              "6.25"
            ]
          },
          "metadata": {},
          "execution_count": 15
        }
      ]
    },
    {
      "cell_type": "markdown",
      "source": [
        "***Job 03***"
      ],
      "metadata": {
        "id": "6GXN_RervdgE"
      }
    },
    {
      "cell_type": "code",
      "source": [
        "def accessible(u,n,P):\n",
        "    i,j=u\n",
        "    L={(k,j)for k in range (0,n)}\n",
        "    if set(P).intersection(L): return False\n",
        "    M={(i,k)for k in range (0,n)}\n",
        "    if set(P).intersection(M): return False\n",
        "    N={(i+k,j-k) for k in range(-i,n-i)}\n",
        "    if set(P).intersection(N): return False\n",
        "    O={(i-k,j-k) for k in range(i,i-n,-1)}\n",
        "    if set(P).intersection(O): return False\n",
        "    return True\n",
        "\n",
        "def reines(n):\n",
        "    i,j,L,P,M=0,0,[],[],[]\n",
        "    while True:\n",
        "        while i<n:\n",
        "            if accessible((i,j),n,P):\n",
        "                P.append((i,j))\n",
        "                M.append(frozenset(P))\n",
        "                i,j=0,j+1\n",
        "            else: i+=1\n",
        "        if len(P)==n: L.append(frozenset(P))\n",
        "        if not P: break\n",
        "        a,j=P.pop()\n",
        "        M.append(frozenset(P))\n",
        "        i=a+1\n",
        "    return L,M\n",
        "\n",
        "def convertcase(u):\n",
        "    return chr(97+u[0])+str(u[1]+1)\n",
        "\n",
        "def convertpos(P):\n",
        "    return [convertcase(p) for p in P]\n",
        "\n",
        "rot = lambda  u,n: (n-1-u[1],u[0])\n",
        "symv = lambda u,n: (n-1-u[0],u[1])\n",
        "symd1 = lambda u,n:  (u[1],u[0])\n",
        "symd2 = lambda u,n: (n-1-u[1],n-1-u[0])\n",
        "rot2 = lambda u,n: rot(rot(u,n),n)\n",
        "rot3 = lambda u,n: rot(rot2(u,n),n)\n",
        "symh = lambda u,n: (u[0],n-1-u[1])\n",
        "\n",
        "transf={rot,symv,symd1,symd2,rot2,rot3,symh}\n",
        "\n",
        "import copy\n",
        "def elimine(V,n):\n",
        "    L=copy.copy(V)\n",
        "    M=[]\n",
        "    while L:\n",
        "        m=L.pop()\n",
        "        N={frozenset({f(u,n) for u in m}) for f in transf}  \n",
        "        if not N.intersection(L):\n",
        "            M.append(m)\n",
        "    return M\n",
        "\n",
        "\n",
        "def convertcaseQ(u):\n",
        "    return 'Q'+chr(97+u[0])+str(u[1]+1)\n",
        "\n",
        "\n",
        "\n",
        "def convertposQ(P):\n",
        "    return {convertcaseQ(p) for p in P}\n",
        "\n",
        "\n",
        "def reconvertcase(c):\n",
        "    return (ord(c[0]-97),int(c[1]-1))\n",
        "    \n",
        "def creatediag(P,n):\n",
        "    f=lambda u: u[1]\n",
        "    P=list(P)\n",
        "    P.sort(key=f)\n",
        "    interdit=[(k,l) for k in range(0,n) for l in range(0,n) if (k,l) not in P if not accessible((k,l),n,P)]\n",
        "    ch=\"\\\\begin{frame}\\\\begin{center}\"+ \"\\chessboard[pgfstyle=cross,shortenstart=0.5ex,shortenend=0.5ex,color=blue, backfields={},setpieces={} ]\".format(set(convertpos(interdit)),convertposQ(P))+\"\\\\end{center}\\\\end{frame}\"\n",
        "    ch=ch.replace(\"'\",\"\")\n",
        "    return ch\n",
        "\n",
        "\n",
        "\n",
        "def creatediagSanscroix(P,n):\n",
        "    f=lambda u: u[1]\n",
        "    P=list(P)\n",
        "    P.sort(key=f)\n",
        "    ch=\"\\\\begin{frame}\\\\begin{center}\"+ \"\\chessboard[pgfstyle=cross,shortenstart=0.5ex,shortenend=0.5ex,color=blue, setpieces={} ]\".format(convertposQ(P))+\"\\\\end{center}\\\\end{frame}\"\n",
        "    ch=ch.replace(\"'\",\"\")\n",
        "    return ch\n",
        "\n",
        "\n",
        "def createbeam(n):\n",
        "    fic=open(\"reinebeam.tex\",'w')\n",
        "    L,R=reines(n)\n",
        "    for r in R:\n",
        "        fic.write(creatediag(r,n))\n",
        "        fic.write(\"\\n\\n\")\n",
        "        if r in L:break\n",
        "    fic.close()\n",
        "\n",
        "    fic=open(\"reinesansrepet.tex\",'w')\n",
        "    N=elimine(L,n)\n",
        "    for r in N:\n",
        "        fic.write(creatediagSanscroix(r,n))\n",
        "        fic.write(\"\\n\\n\")\n",
        "    fic.close()\n",
        "\n",
        "    fic=open(\"lesSol.tex\",'w')\n",
        "    for ll in L:\n",
        "        f=lambda u: u[1]\n",
        "        l=list(ll)\n",
        "        l.sort(key=f)\n",
        "        ch=str(convertpos(l))\n",
        "        ch=ch.replace(\"'\",\"\")\n",
        "        fic.write(ch)\n",
        "        fic.write(\"\\n\\n\")\n",
        "    fic.close()\n",
        "\n",
        "\n",
        "    fic=open(\"lesSolIsom.tex\",'w')\n",
        "    for ll in N:\n",
        "        f=lambda u: u[1]\n",
        "        l=list(ll)\n",
        "        l.sort(key=f)\n",
        "        ch=str(convertpos(l))\n",
        "        ch=ch.replace(\"'\",\"\")\n",
        "        fic.write(ch)\n",
        "        fic.write(\"\\n\\n\")\n",
        "    fic.close()\n"
      ],
      "metadata": {
        "id": "Ui3qz4x4vcMQ"
      },
      "execution_count": 14,
      "outputs": []
    },
    {
      "cell_type": "code",
      "source": [
        "\n",
        "N=8\n",
        "createbeam(N)"
      ],
      "metadata": {
        "id": "BQUMGjE5davN"
      },
      "execution_count": 15,
      "outputs": []
    },
    {
      "cell_type": "code",
      "source": [
        "fic=open(\"lesSolIsom.tex\",'r')\n",
        "\n",
        "a=fic.read()\n",
        "print (a)\n",
        "fic.close()"
      ],
      "metadata": {
        "colab": {
          "base_uri": "https://localhost:8080/"
        },
        "id": "wopzz_uLCbJy",
        "outputId": "61be920e-2a68-4dd1-acc4-5df98fb58c17"
      },
      "execution_count": 21,
      "outputs": [
        {
          "output_type": "stream",
          "name": "stdout",
          "text": [
            "[c1, f2, b3, e4, h5, a6, g7, d8]\n",
            "\n",
            "[c1, e2, h3, d4, a5, g6, b7, f8]\n",
            "\n",
            "[c1, e2, b3, h4, a5, g6, d7, f8]\n",
            "\n",
            "[b1, g2, e3, h4, a5, d6, f7, c8]\n",
            "\n",
            "[b1, g2, c3, f4, h5, e6, a7, d8]\n",
            "\n",
            "[b1, f2, h3, c4, a5, d6, g7, e8]\n",
            "\n",
            "[b1, f2, a3, g4, d5, h6, c7, e8]\n",
            "\n",
            "[b1, e2, g3, d4, a5, h6, f7, c8]\n",
            "\n",
            "[b1, e2, g3, a4, c5, h6, f7, d8]\n",
            "\n",
            "[b1, d2, f3, h4, c5, a6, g7, e8]\n",
            "\n",
            "[a1, f2, h3, c4, g5, d6, b7, e8]\n",
            "\n",
            "[a1, e2, h3, f4, c5, g6, b7, d8]\n",
            "\n",
            "\n"
          ]
        }
      ]
    },
    {
      "cell_type": "markdown",
      "source": [
        "Job **08**"
      ],
      "metadata": {
        "id": "I4NUuh7q65aF"
      }
    },
    {
      "cell_type": "code",
      "source": [
        "with open('maze.mz .txt', 'r') as maze_io :\n",
        "    maze = []\n",
        "    for row in maze_io :\n",
        "        maze.append(list(row.strip()))\n",
        "\n",
        "w = len(maze[0])\n",
        "h = len(maze)"
      ],
      "metadata": {
        "id": "Z-TfdCik53t_"
      },
      "execution_count": 5,
      "outputs": []
    },
    {
      "cell_type": "code",
      "source": [
        "directions = ((0,1),(0,-1),(1,0),(-1,0))\n",
        "links = []\n",
        "for i in range(h):\n",
        "    for j in range(w):\n",
        "        if maze[i][j] == '.' :\n",
        "            for direction in directions :\n",
        "                di,dj = direction\n",
        "                if i+di in range(h) and j+dj in range(w) and maze[i+di][j+dj] == '.' and {(i,j),(i+di,j+dj)} not in links :\n",
        "                    links.append( {(i,j),(i+di,j+dj)} )"
      ],
      "metadata": {
        "id": "dyt3A0nL6tcE"
      },
      "execution_count": 6,
      "outputs": []
    },
    {
      "cell_type": "code",
      "source": [
        "borders = []\n",
        "border = {(0,0)}\n",
        "visited = set()\n",
        "while (h-1,w-1) not in border :\n",
        "    borders.append(border)\n",
        "    visited |= border\n",
        "    border = set()\n",
        "    for node in borders[-1] :\n",
        "        for link in links :\n",
        "            if node in link :\n",
        "                next_node = link - {node}\n",
        "                if not (next_node & visited) :\n",
        "                    border |= next_node"
      ],
      "metadata": {
        "id": "pxaQVusg6yIe"
      },
      "execution_count": 7,
      "outputs": []
    },
    {
      "cell_type": "code",
      "source": [
        "current = h-1, w-1\n",
        "path = [current]\n",
        "for border in borders[::-1] :\n",
        "    for node in border :\n",
        "        if {node, current} in links :\n",
        "            path.append(node)\n",
        "            current = node\n",
        "            break\n",
        "path = path[::-1]\n",
        "\n",
        "solved_maze = [row[:] for row in maze]\n",
        "for i,j in path :\n",
        "    solved_maze[i][j] = 'X'\n",
        "\n",
        "for row in solved_maze :\n",
        "    print(''.join(row))"
      ],
      "metadata": {
        "id": "70zjD_pO61re"
      },
      "execution_count": null,
      "outputs": []
    },
    {
      "cell_type": "code",
      "source": [
        "import matplotlib.pyplot as plt\n",
        "conversion = {'.':2, '#':0, 'X':20}\n",
        "num_solved_maze = [[conversion[solved_maze[i][j]] for j in range(w)] for i in range(h)]\n",
        "plt.imshow(num_solved_maze);"
      ],
      "metadata": {
        "colab": {
          "base_uri": "https://localhost:8080/",
          "height": 268
        },
        "id": "_TgPc5a_7BzB",
        "outputId": "6d92d81c-cb0a-4448-ea5e-a0ff441d9f2b"
      },
      "execution_count": 12,
      "outputs": [
        {
          "output_type": "display_data",
          "data": {
            "text/plain": [
              "<Figure size 432x288 with 1 Axes>"
            ],
            "image/png": "[encoded data removed]"
          },
          "metadata": {
            "needs_background": "light"
          }
        }
      ]
    }
  ]
}
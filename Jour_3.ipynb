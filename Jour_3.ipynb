{
  "nbformat": 4,
  "nbformat_minor": 0,
  "metadata": {
    "colab": {
      "provenance": [],
      "collapsed_sections": []
    },
    "kernelspec": {
      "name": "python3",
      "display_name": "Python 3"
    },
    "language_info": {
      "name": "python"
    }
  },
  "cells": [
    {
      "cell_type": "markdown",
      "source": [
        "Job 0"
      ],
      "metadata": {
        "id": "VcUnvyi-Yx_7"
      }
    },
    {
      "cell_type": "code",
      "execution_count": 2,
      "metadata": {
        "id": "EK1gRHWjYEJJ",
        "colab": {
          "base_uri": "https://localhost:8080/"
        },
        "outputId": "20026597-99b9-4d9c-8b87-365e970edb26"
      },
      "outputs": [
        {
          "name": "stdout",
          "output_type": "stream",
          "text": [
            "houssam\n"
          ]
        }
      ],
      "source": [
        "chaine_de_caractere = input()\n",
        "outfile = open(\"output.txt\", \"w\")\n",
        "outfile.write(chaine_de_caractere)\n",
        "outfile.close() "
      ]
    },
    {
      "cell_type": "markdown",
      "source": [
        "Job 0.1"
      ],
      "metadata": {
        "id": "ls-hgI7gZuLu"
      }
    },
    {
      "cell_type": "code",
      "source": [
        "fichier = open(\"/content/output.txt\", \"r\")\n",
        "print(fichier.read())\n",
        "fichier.close()"
      ],
      "metadata": {
        "id": "fXCLt2lXZ1Mt",
        "colab": {
          "base_uri": "https://localhost:8080/"
        },
        "outputId": "29b55871-96ed-4980-82f1-7d24ec42f04e"
      },
      "execution_count": 3,
      "outputs": [
        {
          "output_type": "stream",
          "name": "stdout",
          "text": [
            "houssam\n"
          ]
        }
      ]
    },
    {
      "cell_type": "markdown",
      "source": [
        "Job 01"
      ],
      "metadata": {
        "id": "-EN7cYOlaiSr"
      }
    },
    {
      "cell_type": "code",
      "source": [
        "fichier = open(\"/content/domains.xml\", \"r\")\n",
        "print(fichier.read())\n",
        "fichier.close()"
      ],
      "metadata": {
        "id": "pXg5MNpHg3q8"
      },
      "execution_count": null,
      "outputs": []
    },
    {
      "cell_type": "markdown",
      "source": [
        "Job 01"
      ],
      "metadata": {
        "id": "bbJfUzZReaRi"
      }
    },
    {
      "cell_type": "code",
      "source": [
        "stop_words = [',','!','?',';','.',':'] \n",
        "fichier = open(\"/content/data.txt\", \"r\")\n",
        "liste_mots_avec_sw = fichier.read().split()  \n",
        "liste_mots_sans_sw =[]\n",
        "i=0\n",
        "j=0\n",
        "for mot in liste_mots_avec_sw:\n",
        "  for stop_word in stop_words:\n",
        "    if stop_word in mot:\n",
        "      mot_sans_sw = mot.replace(stop_word, '')\n",
        "      liste_mots_sans_sw.append(mot_sans_sw)\n",
        "      i += 1\n",
        "      break\n",
        "    else :\n",
        "      liste_mots_sans_sw.append(mot)\n",
        "      j += 1\n",
        "      break\n",
        "nombre_mots_avec_sw = len(liste_mots_avec_sw)\n",
        "nombre_mots_sans_sw = len(liste_mots_sans_sw)\n",
        "\n",
        "print(\"Le fichier data.txt contient {} mots\".format(nombre_mots_sans_sw))\n",
        "print(i, j)"
      ],
      "metadata": {
        "colab": {
          "base_uri": "https://localhost:8080/"
        },
        "id": "o5rAjDFxckO-",
        "outputId": "c85c48af-db90-4a70-9707-a18abdf8a25c"
      },
      "execution_count": null,
      "outputs": [
        {
          "output_type": "stream",
          "name": "stdout",
          "text": [
            "Le fichier data.txt contient 1173361 mots\n",
            "164380 1008981\n"
          ]
        }
      ]
    },
    {
      "cell_type": "code",
      "source": [
        "liste_mots_sans_sw"
      ],
      "metadata": {
        "id": "mYy7u_udi_Lr"
      },
      "execution_count": null,
      "outputs": []
    },
    {
      "cell_type": "code",
      "source": [
        "listee=[]\n",
        "liste_mots = ['diximus;','Lorem','ipsum','dolor','sit','amet','consectetur','adipiscing','elit.','De','quibus','cupio','scire','quid','sentias.']\n",
        "for mot in liste_mots:\n",
        "  for stop_word in stop_words:\n",
        "    if stop_word in mot:\n",
        "      #print(stop_word)\n",
        "      mot = mot.replace(stop_word, '')\n",
        "      listee.append(mot)\n",
        "print(listee)"
      ],
      "metadata": {
        "id": "FcwFblK75xZl",
        "colab": {
          "base_uri": "https://localhost:8080/"
        },
        "outputId": "b2645915-61a0-47f0-eaf2-740fd40a28fc"
      },
      "execution_count": null,
      "outputs": [
        {
          "output_type": "stream",
          "name": "stdout",
          "text": [
            "['diximus', 'elit', 'sentias']\n"
          ]
        }
      ]
    },
    {
      "cell_type": "code",
      "source": [
        "import nltk\n",
        "\n",
        "fichier = open(\"/content/data.txt\", \"r\")\n",
        "tokens = nltk.word_tokenize(fichier.read())\n",
        "for stop_word in stop_words:\n",
        "    if stop_word == tokens:\n",
        "      tokens.remove(tokens)\n",
        "len(tokens)"
      ],
      "metadata": {
        "id": "flZWoP7rxi2W"
      },
      "execution_count": null,
      "outputs": []
    },
    {
      "cell_type": "code",
      "source": [
        "fichier = open(\"/content/data.txt\", \"r\")\n",
        "data = fichier.read()\n",
        "\n",
        "stop_words = [',','!','?',';','.',':','\\n','-','+','/',')','*','§'] \n",
        "\n",
        "for stop_word in stop_words:\n",
        "  data = data.replace(stop_word, '')\n",
        "\n",
        "liste_mots = data.split()\n",
        "\n",
        "print(\"Le fichier data.txt contient {} mots\".format(len(liste_mots)))"
      ],
      "metadata": {
        "colab": {
          "base_uri": "https://localhost:8080/"
        },
        "id": "DB9KtS-beW4W",
        "outputId": "b9d2fad3-9b9e-43bf-be55-ee955b9e6871"
      },
      "execution_count": null,
      "outputs": [
        {
          "output_type": "stream",
          "name": "stdout",
          "text": [
            "Le fichier data.txt contient 1173035 mots\n"
          ]
        }
      ]
    },
    {
      "cell_type": "code",
      "source": [
        "liste_mots"
      ],
      "metadata": {
        "id": "iEHvHwg8jfVc"
      },
      "execution_count": null,
      "outputs": []
    },
    {
      "cell_type": "markdown",
      "source": [
        "Job 02"
      ],
      "metadata": {
        "id": "KhKWYLrv8MLl"
      }
    },
    {
      "cell_type": "code",
      "source": [
        "taille_mot = int(input())\n",
        "\n",
        "fichier = open(\"/content/data.txt\", \"r\")\n",
        "data = fichier.read()\n",
        "\n",
        "stop_words = [',','!','?',';','.',':','\\n','-','+','/',')','*','§'] \n",
        "\n",
        "for stop_word in stop_words:\n",
        "  data = data.replace(stop_word, '')\n",
        "\n",
        "liste_mots = data.split()\n",
        "\n",
        "compteur = 0\n",
        "for mot in liste_mots:\n",
        "  if len(mot) == taille_mot:\n",
        "    compteur += 1\n",
        "\n",
        "print(\"le nombre de mot de taille {} dans le fichier data est : {}\".format(taille_mot, compteur))"
      ],
      "metadata": {
        "colab": {
          "base_uri": "https://localhost:8080/"
        },
        "id": "z6sEeTwI7Jo-",
        "outputId": "859ed646-885e-4708-eb2e-1884f6577d75"
      },
      "execution_count": null,
      "outputs": [
        {
          "output_type": "stream",
          "name": "stdout",
          "text": [
            "17\n",
            "le nombre de mot de taille 17 dans le fichier data est : 232\n"
          ]
        }
      ]
    },
    {
      "cell_type": "markdown",
      "source": [
        "Job 03"
      ],
      "metadata": {
        "id": "SBSX_yJXXGhn"
      }
    },
    {
      "cell_type": "code",
      "source": [
        "a = 'hello'\n",
        "list(a)"
      ],
      "metadata": {
        "colab": {
          "base_uri": "https://localhost:8080/"
        },
        "id": "fnuFvBDUj8yu",
        "outputId": "e99b1b27-be2e-4a50-8a17-134632bf1c9a"
      },
      "execution_count": null,
      "outputs": [
        {
          "output_type": "execute_result",
          "data": {
            "text/plain": [
              "['h', 'e', 'l', 'l', 'o']"
            ]
          },
          "metadata": {},
          "execution_count": 43
        }
      ]
    },
    {
      "cell_type": "code",
      "source": [
        "from collections import Counter\n",
        "fichier = open(\"/content/data.txt\", \"r\")\n",
        "data = fichier.read()\n",
        "\n",
        "stop_words = [',','!','?',';','.',':',' ','\\n','-','+','/',')','*','§'] \n",
        "\n",
        "for stop_word in stop_words:\n",
        "  data = data.replace(stop_word, '')\n",
        "\n",
        "data = data.lower()\n",
        "lettres = list(data)\n",
        "\n",
        "occurence = dict(Counter(lettres))\n",
        "occurence"
      ],
      "metadata": {
        "id": "6w1344TCqlSz"
      },
      "execution_count": null,
      "outputs": []
    },
    {
      "cell_type": "code",
      "source": [
        "dictio = {'a':4}\n",
        "dictio['a']"
      ],
      "metadata": {
        "colab": {
          "base_uri": "https://localhost:8080/"
        },
        "id": "1sIODcrpkNe5",
        "outputId": "c8c52a91-3cbb-42c7-b6c7-a7243aae2664"
      },
      "execution_count": null,
      "outputs": [
        {
          "output_type": "execute_result",
          "data": {
            "text/plain": [
              "4"
            ]
          },
          "metadata": {},
          "execution_count": 44
        }
      ]
    },
    {
      "cell_type": "code",
      "source": [
        "import matplotlib.pyplot as plt\n",
        "\n",
        "plt.figure(figsize=(14,7)) \n",
        "\n",
        "somme_values = sum(occurence.values())\n",
        "for key in occurence.keys():\n",
        "  occurence[key] = round((occurence[key]*100)/somme_values,4)\n",
        "\n",
        "plt.bar(occurence.keys(), occurence.values(), color='b')\n"
      ],
      "metadata": {
        "colab": {
          "base_uri": "https://localhost:8080/",
          "height": 446
        },
        "id": "WllA7Gm-fgyX",
        "outputId": "860b332f-e5b6-4c04-e720-05bb07a56504"
      },
      "execution_count": null,
      "outputs": [
        {
          "output_type": "execute_result",
          "data": {
            "text/plain": [
              "<BarContainer object of 34 artists>"
            ]
          },
          "metadata": {},
          "execution_count": 230
        },
        {
          "output_type": "display_data",
          "data": {
            "text/plain": [
              "<Figure size 1008x504 with 1 Axes>"
            ],
            "image/png": "[encoded data removed]"
          },
          "metadata": {
            "needs_background": "light"
          }
        }
      ]
    },
    {
      "cell_type": "markdown",
      "source": [
        "Job 05"
      ],
      "metadata": {
        "id": "dvonMkbTlbJT"
      }
    },
    {
      "cell_type": "code",
      "source": [
        "fichier = open(\"/content/data.txt\", \"r\")\n",
        "data = fichier.read()\n",
        "\n",
        "stop_words = [',','!','?',';','.',':','\\n','-','+','/',')','*','§'] \n",
        "\n",
        "for stop_word in stop_words:\n",
        "  data = data.replace(stop_word, '')\n",
        "\n",
        "data = data.lower()\n",
        "liste_mots = data.split()\n",
        "\n",
        "nmbre_mot_taille = {}\n",
        "\n",
        "for mot in liste_mots:\n",
        "    nmbre_mot_taille.setdefault(len(mot), []).append(mot)\n",
        "for key in nmbre_mot_taille.keys():\n",
        "  nmbre_mot_taille[key] = len(nmbre_mot_taille[key])\n",
        "\n",
        "#nmbre_mot_taiile\n",
        "\n",
        "nmbre_mot_taille = dict(sorted(nmbre_mot_taille.items(),key=lambda x:x[0],reverse=False))\n",
        "nmbre_mot_taille"
      ],
      "metadata": {
        "id": "o28O6QRnoCJD"
      },
      "execution_count": null,
      "outputs": []
    },
    {
      "cell_type": "code",
      "source": [
        "import matplotlib.pyplot as plt\n",
        "\n",
        "plt.figure(figsize=(14,7)) \n",
        "\n",
        "somme_values = sum(nmbre_mot_taille.values())\n",
        "for key in nmbre_mot_taille.keys():\n",
        "  nmbre_mot_taille[key] = round((nmbre_mot_taille[key]*100)/somme_values,4)\n",
        "\n",
        "plt.bar(nmbre_mot_taille.keys(), nmbre_mot_taille.values(), color='b')"
      ],
      "metadata": {
        "colab": {
          "base_uri": "https://localhost:8080/",
          "height": 449
        },
        "id": "z3qe6FZSO46h",
        "outputId": "d12798fa-3804-46c7-845c-d44c544b2f79"
      },
      "execution_count": null,
      "outputs": [
        {
          "output_type": "execute_result",
          "data": {
            "text/plain": [
              "<BarContainer object of 18 artists>"
            ]
          },
          "metadata": {},
          "execution_count": 23
        },
        {
          "output_type": "display_data",
          "data": {
            "text/plain": [
              "<Figure size 1008x504 with 1 Axes>"
            ],
            "image/png": "[encoded data removed]"
          },
          "metadata": {
            "needs_background": "light"
          }
        }
      ]
    },
    {
      "cell_type": "markdown",
      "source": [
        "Job 08\n"
      ],
      "metadata": {
        "id": "uiEak6s7qtDo"
      }
    },
    {
      "cell_type": "code",
      "source": [
        "from collections import Counter\n",
        "\n",
        "fichier = open(\"/content/data.txt\", \"r\")\n",
        "data = fichier.read()\n",
        "\n",
        "stop_words = [',','!','?',';','.',':','\\n','-','+','/',')','*','§'] \n",
        "\n",
        "for stop_word in stop_words:\n",
        "  data = data.replace(stop_word, '')\n",
        "\n",
        "data = data.lower()\n",
        "\n",
        "liste_mots = data.split()\n",
        "\n",
        "liste_lettres = []\n",
        "for mot in liste_mots:\n",
        "    liste_lettres.append(mot[0])\n",
        "\n",
        "\n",
        "occurence = dict(Counter(liste_lettres))\n",
        "occurence"
      ],
      "metadata": {
        "colab": {
          "base_uri": "https://localhost:8080/"
        },
        "id": "vuEEdj1jlcVB",
        "outputId": "a5075a77-bfac-4364-8a16-f27300419c11"
      },
      "execution_count": null,
      "outputs": [
        {
          "output_type": "execute_result",
          "data": {
            "text/plain": [
              "{'l': 20339,\n",
              " 'i': 112828,\n",
              " 'd': 63253,\n",
              " 's': 105867,\n",
              " 'a': 102892,\n",
              " 'c': 60776,\n",
              " 'e': 135618,\n",
              " 'q': 94830,\n",
              " 't': 39441,\n",
              " 'n': 81205,\n",
              " 'm': 44437,\n",
              " 'h': 30245,\n",
              " 'u': 25932,\n",
              " 'p': 79835,\n",
              " 'r': 30153,\n",
              " 'v': 65986,\n",
              " 'f': 25261,\n",
              " 'b': 16162,\n",
              " 'g': 8290,\n",
              " 'o': 28166,\n",
              " 'z': 1005,\n",
              " 'í': 50,\n",
              " 'k': 165,\n",
              " 'x': 251,\n",
              " 'á': 48}"
            ]
          },
          "metadata": {},
          "execution_count": 34
        }
      ]
    },
    {
      "cell_type": "code",
      "source": [
        "import matplotlib.pyplot as plt\n",
        "\n",
        "plt.figure(figsize=(14,7)) \n",
        "\n",
        "somme = sum(occurence.values())\n",
        "\n",
        "for key in occurence.keys():\n",
        "  occurence[key] = round(occurence[key]*100/somme,4)\n",
        "\n",
        "plt.bar(occurence.keys(), occurence.values(), color='b')"
      ],
      "metadata": {
        "id": "ns2St2T1oCTM",
        "colab": {
          "base_uri": "https://localhost:8080/",
          "height": 446
        },
        "outputId": "39dd8778-6011-4c1b-ec18-4756a19c64a3"
      },
      "execution_count": null,
      "outputs": [
        {
          "output_type": "execute_result",
          "data": {
            "text/plain": [
              "<BarContainer object of 25 artists>"
            ]
          },
          "metadata": {},
          "execution_count": 35
        },
        {
          "output_type": "display_data",
          "data": {
            "text/plain": [
              "<Figure size 1008x504 with 1 Axes>"
            ],
            "image/png": "[encoded data removed]"
          },
          "metadata": {
            "needs_background": "light"
          }
        }
      ]
    }
  ]
}
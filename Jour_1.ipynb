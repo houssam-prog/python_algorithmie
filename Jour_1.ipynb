{
  "cells": [
    {
      "cell_type": "markdown",
      "id": "9aa49bf7",
      "metadata": {
        "id": "9aa49bf7"
      },
      "source": [
        "Job 03"
      ]
    },
    {
      "cell_type": "code",
      "execution_count": 2,
      "id": "3b977117",
      "metadata": {
        "colab": {
          "base_uri": "https://localhost:8080/"
        },
        "id": "3b977117",
        "outputId": "7174cc7f-76bc-4e3e-9d04-803667d9c99e"
      },
      "outputs": [
        {
          "output_type": "stream",
          "name": "stdout",
          "text": [
            "python3: can't open file 'C:UsersnoeduDesktopmain.py': [Errno 2] No such file or directory\n"
          ]
        }
      ],
      "source": [
        "!python C:\\Users\\noedu\\Desktop\\main.py"
      ]
    },
    {
      "cell_type": "markdown",
      "id": "144e3404",
      "metadata": {
        "id": "144e3404"
      },
      "source": [
        "Job 05"
      ]
    },
    {
      "cell_type": "markdown",
      "id": "2cd68ae7",
      "metadata": {
        "id": "2cd68ae7"
      },
      "source": [
        "Job 07"
      ]
    },
    {
      "cell_type": "code",
      "execution_count": 3,
      "id": "306e55f8",
      "metadata": {
        "id": "306e55f8"
      },
      "outputs": [],
      "source": [
        "def Add(n1, n2):\n",
        "    return n1 + n2"
      ]
    },
    {
      "cell_type": "code",
      "execution_count": 4,
      "id": "54444a24",
      "metadata": {
        "colab": {
          "base_uri": "https://localhost:8080/"
        },
        "id": "54444a24",
        "outputId": "d5655881-192d-47b8-daf0-4509966cc14e"
      },
      "outputs": [
        {
          "output_type": "execute_result",
          "data": {
            "text/plain": [
              "12"
            ]
          },
          "metadata": {},
          "execution_count": 4
        }
      ],
      "source": [
        "Add(7,5)"
      ]
    },
    {
      "cell_type": "markdown",
      "id": "479cb38b",
      "metadata": {
        "id": "479cb38b"
      },
      "source": [
        "Job 11"
      ]
    },
    {
      "cell_type": "code",
      "execution_count": 5,
      "id": "a8a1d1e3",
      "metadata": {
        "colab": {
          "base_uri": "https://localhost:8080/"
        },
        "id": "a8a1d1e3",
        "outputId": "0dbe353c-d5db-4575-ca74-d05fbcc7b40e"
      },
      "outputs": [
        {
          "output_type": "stream",
          "name": "stdout",
          "text": [
            "Enter your surname: houssam\n",
            "Hello houssam\n"
          ]
        }
      ],
      "source": [
        "surname = input('Enter your surname: ')\n",
        "print(\"Hello\", surname)"
      ]
    },
    {
      "cell_type": "markdown",
      "id": "4cb3f134",
      "metadata": {
        "id": "4cb3f134"
      },
      "source": [
        "Job 13"
      ]
    },
    {
      "cell_type": "code",
      "execution_count": 6,
      "id": "2525642e",
      "metadata": {
        "colab": {
          "base_uri": "https://localhost:8080/"
        },
        "id": "2525642e",
        "outputId": "bc3d4f80-a672-4da5-cee8-63a8d2f5552e"
      },
      "outputs": [
        {
          "output_type": "stream",
          "name": "stdout",
          "text": [
            "Enter an integer: 8\n",
            "Enter an integer: 7\n",
            "Enter an integer: 5\n",
            "Enter an integer: 3\n",
            "Enter an integer: 9\n",
            "[3, 5, 7, 8, 9]\n"
          ]
        }
      ],
      "source": [
        "ints = [int(input('Enter an integer: ')) for _ in range(5)]\n",
        "print(sorted(ints))"
      ]
    },
    {
      "cell_type": "markdown",
      "id": "7d56e224",
      "metadata": {
        "id": "7d56e224"
      },
      "source": [
        "Job 17"
      ]
    },
    {
      "cell_type": "code",
      "execution_count": 7,
      "id": "262734fd",
      "metadata": {
        "colab": {
          "base_uri": "https://localhost:8080/"
        },
        "id": "262734fd",
        "outputId": "8bd3381b-e567-4e67-bda1-7f56c46a3c0d"
      },
      "outputs": [
        {
          "output_type": "stream",
          "name": "stdout",
          "text": [
            "1 : \n",
            "2 : \n",
            "3 : Fizz\n",
            "4 : \n",
            "5 : Buzz\n",
            "6 : Fizz\n",
            "7 : \n",
            "8 : \n",
            "9 : Fizz\n",
            "10 : Buzz\n",
            "11 : \n",
            "12 : Fizz\n",
            "13 : \n",
            "14 : \n",
            "15 : FizzBuzz\n",
            "16 : \n",
            "17 : \n",
            "18 : Fizz\n",
            "19 : \n",
            "20 : Buzz\n",
            "21 : Fizz\n",
            "22 : \n",
            "23 : \n",
            "24 : Fizz\n",
            "25 : Buzz\n",
            "26 : \n",
            "27 : Fizz\n",
            "28 : \n",
            "29 : \n",
            "30 : FizzBuzz\n",
            "31 : \n",
            "32 : \n",
            "33 : Fizz\n",
            "34 : \n",
            "35 : Buzz\n",
            "36 : Fizz\n",
            "37 : \n",
            "38 : \n",
            "39 : Fizz\n",
            "40 : Buzz\n",
            "41 : \n",
            "42 : Fizz\n",
            "43 : \n",
            "44 : \n",
            "45 : FizzBuzz\n",
            "46 : \n",
            "47 : \n",
            "48 : Fizz\n",
            "49 : \n",
            "50 : Buzz\n",
            "51 : Fizz\n",
            "52 : \n",
            "53 : \n",
            "54 : Fizz\n",
            "55 : Buzz\n",
            "56 : \n",
            "57 : Fizz\n",
            "58 : \n",
            "59 : \n",
            "60 : FizzBuzz\n",
            "61 : \n",
            "62 : \n",
            "63 : Fizz\n",
            "64 : \n",
            "65 : Buzz\n",
            "66 : Fizz\n",
            "67 : \n",
            "68 : \n",
            "69 : Fizz\n",
            "70 : Buzz\n",
            "71 : \n",
            "72 : Fizz\n",
            "73 : \n",
            "74 : \n",
            "75 : FizzBuzz\n",
            "76 : \n",
            "77 : \n",
            "78 : Fizz\n",
            "79 : \n",
            "80 : Buzz\n",
            "81 : Fizz\n",
            "82 : \n",
            "83 : \n",
            "84 : Fizz\n",
            "85 : Buzz\n",
            "86 : \n",
            "87 : Fizz\n",
            "88 : \n",
            "89 : \n",
            "90 : FizzBuzz\n",
            "91 : \n",
            "92 : \n",
            "93 : Fizz\n",
            "94 : \n",
            "95 : Buzz\n",
            "96 : Fizz\n",
            "97 : \n",
            "98 : \n",
            "99 : Fizz\n",
            "100 : Buzz\n"
          ]
        }
      ],
      "source": [
        "for i in range(1,101):\n",
        "    res = ''\n",
        "    if i % 3 == 0 : res += 'Fizz'\n",
        "    if i % 5 == 0 : res += 'Buzz'\n",
        "    print(i,':', res)"
      ]
    },
    {
      "cell_type": "code",
      "execution_count": 8,
      "id": "f7bf0624",
      "metadata": {
        "colab": {
          "base_uri": "https://localhost:8080/"
        },
        "id": "f7bf0624",
        "outputId": "230cbe2c-90bb-470e-c85f-fc86a3059457"
      },
      "outputs": [
        {
          "output_type": "stream",
          "name": "stdout",
          "text": [
            "1: \n",
            "2: \n",
            "3: Fizz\n",
            "4: \n",
            "5: Buzz\n",
            "6: Fizz\n",
            "7: \n",
            "8: \n",
            "9: Fizz\n",
            "10: Buzz\n",
            "11: \n",
            "12: Fizz\n",
            "13: \n",
            "14: \n",
            "15: FizzBuzz\n",
            "16: \n",
            "17: \n",
            "18: Fizz\n",
            "19: \n",
            "20: Buzz\n",
            "21: Fizz\n",
            "22: \n",
            "23: \n",
            "24: Fizz\n",
            "25: Buzz\n",
            "26: \n",
            "27: Fizz\n",
            "28: \n",
            "29: \n",
            "30: FizzBuzz\n",
            "31: \n",
            "32: \n",
            "33: Fizz\n",
            "34: \n",
            "35: Buzz\n",
            "36: Fizz\n",
            "37: \n",
            "38: \n",
            "39: Fizz\n",
            "40: Buzz\n",
            "41: \n",
            "42: Fizz\n",
            "43: \n",
            "44: \n",
            "45: FizzBuzz\n",
            "46: \n",
            "47: \n",
            "48: Fizz\n",
            "49: \n",
            "50: Buzz\n",
            "51: Fizz\n",
            "52: \n",
            "53: \n",
            "54: Fizz\n",
            "55: Buzz\n",
            "56: \n",
            "57: Fizz\n",
            "58: \n",
            "59: \n",
            "60: FizzBuzz\n",
            "61: \n",
            "62: \n",
            "63: Fizz\n",
            "64: \n",
            "65: Buzz\n",
            "66: Fizz\n",
            "67: \n",
            "68: \n",
            "69: Fizz\n",
            "70: Buzz\n",
            "71: \n",
            "72: Fizz\n",
            "73: \n",
            "74: \n",
            "75: FizzBuzz\n",
            "76: \n",
            "77: \n",
            "78: Fizz\n",
            "79: \n",
            "80: Buzz\n",
            "81: Fizz\n",
            "82: \n",
            "83: \n",
            "84: Fizz\n",
            "85: Buzz\n",
            "86: \n",
            "87: Fizz\n",
            "88: \n",
            "89: \n",
            "90: FizzBuzz\n",
            "91: \n",
            "92: \n",
            "93: Fizz\n",
            "94: \n",
            "95: Buzz\n",
            "96: Fizz\n",
            "97: \n",
            "98: \n",
            "99: Fizz\n",
            "100: Buzz\n"
          ]
        }
      ],
      "source": [
        "for i in range(1,101) :\n",
        "    print(f'{i}: ', end = '')\n",
        "    if i % 3 == 0 :\n",
        "        print('Fizz', end = '')\n",
        "    if i % 5 == 0 :\n",
        "        print('Buzz', end = '')\n",
        "    print()"
      ]
    },
    {
      "cell_type": "markdown",
      "id": "42957378",
      "metadata": {
        "id": "42957378"
      },
      "source": [
        "Job 19"
      ]
    },
    {
      "cell_type": "code",
      "execution_count": null,
      "id": "d1d356e5",
      "metadata": {
        "id": "d1d356e5"
      },
      "outputs": [],
      "source": [
        "def draw_rectangle(a,b):\n",
        "    print('|' + '-' * (a-2) + '|')\n",
        "    for _ in range(b-2):\n",
        "        print('|' + ' ' * (a-2) + '|')\n",
        "    print('|' + '-' * (a-2) + '|')"
      ]
    },
    {
      "cell_type": "code",
      "execution_count": null,
      "id": "238b9226",
      "metadata": {
        "id": "238b9226",
        "outputId": "56b9fbde-cba9-48d0-cb94-97dbf62d6eda"
      },
      "outputs": [
        {
          "name": "stdout",
          "output_type": "stream",
          "text": [
            "|--------|\n",
            "|        |\n",
            "|--------|\n"
          ]
        }
      ],
      "source": [
        "draw_rectangle(10,3)"
      ]
    },
    {
      "cell_type": "code",
      "execution_count": null,
      "id": "535b9973",
      "metadata": {
        "id": "535b9973",
        "outputId": "c20db976-309e-401e-9bdc-3d919259f9c0"
      },
      "outputs": [
        {
          "name": "stdout",
          "output_type": "stream",
          "text": [
            "||\n",
            "||\n"
          ]
        }
      ],
      "source": [
        "draw_rectangle(2,2)"
      ]
    },
    {
      "cell_type": "code",
      "execution_count": null,
      "id": "f31d7b35",
      "metadata": {
        "id": "f31d7b35",
        "outputId": "4056d895-a774-434d-8621-8b148a830cd7"
      },
      "outputs": [
        {
          "name": "stdout",
          "output_type": "stream",
          "text": [
            "||\n",
            "||\n"
          ]
        }
      ],
      "source": [
        "draw_rectangle(0,0)"
      ]
    },
    {
      "cell_type": "markdown",
      "id": "42978903",
      "metadata": {
        "id": "42978903"
      },
      "source": [
        "Job 23"
      ]
    },
    {
      "cell_type": "code",
      "execution_count": null,
      "id": "2c5ef61a",
      "metadata": {
        "id": "2c5ef61a"
      },
      "outputs": [],
      "source": [
        "def triangle(h):\n",
        "    for i in range(h-1):\n",
        "        print((h-i-1)*' ' + '/' + 2*i* ' ' + '\\\\')\n",
        "    print('/' + 2*(i+1)* '_' + '\\\\')"
      ]
    },
    {
      "cell_type": "code",
      "execution_count": null,
      "id": "cd5086a8",
      "metadata": {
        "id": "cd5086a8",
        "outputId": "f6c89894-b1a6-4eee-b31a-ee21450bb9b6"
      },
      "outputs": [
        {
          "name": "stdout",
          "output_type": "stream",
          "text": [
            "    /\\\n",
            "   /  \\\n",
            "  /    \\\n",
            " /      \\\n",
            "/________\\\n"
          ]
        }
      ],
      "source": [
        "triangle(5)"
      ]
    },
    {
      "cell_type": "code",
      "execution_count": null,
      "id": "1845dedf",
      "metadata": {
        "id": "1845dedf",
        "outputId": "a6d714a9-e12c-4891-a42a-76d57135cbd2"
      },
      "outputs": [
        {
          "name": "stdout",
          "output_type": "stream",
          "text": [
            " /\\\n",
            "/__\\\n"
          ]
        }
      ],
      "source": [
        "triangle(2)"
      ]
    },
    {
      "cell_type": "markdown",
      "id": "839a8ecd",
      "metadata": {
        "id": "839a8ecd"
      },
      "source": [
        "Job 29"
      ]
    },
    {
      "cell_type": "code",
      "execution_count": null,
      "id": "9211f5e5",
      "metadata": {
        "id": "9211f5e5"
      },
      "outputs": [],
      "source": [
        "def LS_round(notes):\n",
        "    res = []\n",
        "    for note in notes :\n",
        "        if note % 5 >= 3 : res.append(note + (5 - note % 5))\n",
        "        else : res.append(note)\n",
        "    return res"
      ]
    },
    {
      "cell_type": "code",
      "execution_count": null,
      "id": "58747d2d",
      "metadata": {
        "id": "58747d2d",
        "outputId": "a9e39787-7a18-45fe-fba0-272bc5e6d704"
      },
      "outputs": [
        {
          "data": {
            "text/plain": [
              "[0, 1, 2, 5, 5, 5, 6, 7, 10, 10]"
            ]
          },
          "execution_count": 58,
          "metadata": {},
          "output_type": "execute_result"
        }
      ],
      "source": [
        "LS_round(range(10))"
      ]
    }
  ],
  "metadata": {
    "kernelspec": {
      "display_name": "Python 3 (ipykernel)",
      "language": "python",
      "name": "python3"
    },
    "language_info": {
      "codemirror_mode": {
        "name": "ipython",
        "version": 3
      },
      "file_extension": ".py",
      "mimetype": "text/x-python",
      "name": "python",
      "nbconvert_exporter": "python",
      "pygments_lexer": "ipython3",
      "version": "3.9.12"
    },
    "colab": {
      "provenance": [],
      "collapsed_sections": []
    }
  },
  "nbformat": 4,
  "nbformat_minor": 5
}